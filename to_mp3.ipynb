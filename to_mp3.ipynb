{
 "cells": [
  {
   "cell_type": "code",
   "execution_count": 1,
   "metadata": {},
   "outputs": [
    {
     "name": "stdout",
     "output_type": "stream",
     "text": [
      "File .\\(1).mp3 already has sample rate 48kHz, converting with ffmpeg for mp3 format.\n",
      "Converted .\\(1).mp3 to .\\mp3_(1).mp3 with ffmpeg with sample rate 48000 Hz and bitrate 192k\n",
      "File .\\(2).mp3 already has sample rate 48kHz, converting with ffmpeg for mp3 format.\n",
      "Converted .\\(2).mp3 to .\\mp3_(2).mp3 with ffmpeg with sample rate 48000 Hz and bitrate 192k\n"
     ]
    }
   ],
   "source": [
    "import os\n",
    "import subprocess\n",
    "\n",
    "def convert_to_mp3_with_ffmpeg(file_path, output_path, sample_rate=48000, bitrate=\"192k\"):\n",
    "    try:\n",
    "        command = [\n",
    "            'ffmpeg', '-i', file_path, '-ar', str(sample_rate), '-b:a', bitrate, output_path\n",
    "        ]\n",
    "        subprocess.run(command, check=True)\n",
    "        print(f\"Converted {file_path} to {output_path} with ffmpeg with sample rate {sample_rate} Hz and bitrate {bitrate}\")\n",
    "    except Exception as e:\n",
    "        print(f\"Error converting {file_path} with ffmpeg: {str(e)}\")\n",
    "\n",
    "def get_sample_rate(file_path):\n",
    "    try:\n",
    "        command = [\n",
    "            'ffprobe', '-v', 'error', '-select_streams', 'a:0', '-show_entries',\n",
    "            'stream=sample_rate', '-of', 'default=noprint_wrappers=1:nokey=1', file_path\n",
    "        ]\n",
    "        result = subprocess.run(command, capture_output=True, text=True, check=True)\n",
    "        return int(result.stdout.strip())\n",
    "    except Exception as e:\n",
    "        print(f\"Error getting sample rate for {file_path}: {str(e)}\")\n",
    "        return None\n",
    "\n",
    "def scan_and_convert(directory):\n",
    "    supported_extensions = ['.webm', '.mp4', '.mkv', '.wav', '.mp3']\n",
    "    for filename in os.listdir(directory):\n",
    "        if any(filename.endswith(ext) for ext in supported_extensions):\n",
    "            file_path = os.path.join(directory, filename)\n",
    "            output_path = os.path.join(directory, \"mp3_\" + os.path.splitext(filename)[0] + '.mp3')\n",
    "\n",
    "            sample_rate = get_sample_rate(file_path)\n",
    "            if sample_rate is None or sample_rate != 48000:\n",
    "                print(f\"File {file_path} has sample rate {sample_rate} Hz or couldn't determine sample rate, converting with ffmpeg.\")\n",
    "                convert_to_mp3_with_ffmpeg(file_path, output_path)\n",
    "            else:\n",
    "                print(f\"File {file_path} already has sample rate 48kHz, converting with ffmpeg for mp3 format.\")\n",
    "                convert_to_mp3_with_ffmpeg(file_path, output_path)\n",
    "\n",
    "if __name__ == \"__main__\":\n",
    "    directory = '.'  # Specify the directory to scan\n",
    "    scan_and_convert(directory)\n"
   ]
  }
 ],
 "metadata": {
  "kernelspec": {
   "display_name": "base",
   "language": "python",
   "name": "python3"
  },
  "language_info": {
   "codemirror_mode": {
    "name": "ipython",
    "version": 3
   },
   "file_extension": ".py",
   "mimetype": "text/x-python",
   "name": "python",
   "nbconvert_exporter": "python",
   "pygments_lexer": "ipython3",
   "version": "3.11.8"
  }
 },
 "nbformat": 4,
 "nbformat_minor": 2
}
