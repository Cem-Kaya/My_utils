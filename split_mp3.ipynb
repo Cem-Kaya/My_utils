{
 "cells": [
  {
   "cell_type": "code",
   "execution_count": 1,
   "metadata": {},
   "outputs": [
    {
     "name": "stdout",
     "output_type": "stream",
     "text": [
      "Splitting .\\mp3_(1).mp3 into 8 segments.\n",
      "Created segment 1 for .\\mp3_(1).mp3: .\\mp3_(1)_segments\\mp3_(1)_part1.mp3\n",
      "Created segment 2 for .\\mp3_(1).mp3: .\\mp3_(1)_segments\\mp3_(1)_part2.mp3\n",
      "Created segment 3 for .\\mp3_(1).mp3: .\\mp3_(1)_segments\\mp3_(1)_part3.mp3\n",
      "Created segment 4 for .\\mp3_(1).mp3: .\\mp3_(1)_segments\\mp3_(1)_part4.mp3\n",
      "Created segment 5 for .\\mp3_(1).mp3: .\\mp3_(1)_segments\\mp3_(1)_part5.mp3\n",
      "Created segment 6 for .\\mp3_(1).mp3: .\\mp3_(1)_segments\\mp3_(1)_part6.mp3\n",
      "Created segment 7 for .\\mp3_(1).mp3: .\\mp3_(1)_segments\\mp3_(1)_part7.mp3\n",
      "Created segment 8 for .\\mp3_(1).mp3: .\\mp3_(1)_segments\\mp3_(1)_part8.mp3\n",
      "Splitting .\\mp3_(2).mp3 into 8 segments.\n",
      "Created segment 1 for .\\mp3_(2).mp3: .\\mp3_(2)_segments\\mp3_(2)_part1.mp3\n",
      "Created segment 2 for .\\mp3_(2).mp3: .\\mp3_(2)_segments\\mp3_(2)_part2.mp3\n",
      "Created segment 3 for .\\mp3_(2).mp3: .\\mp3_(2)_segments\\mp3_(2)_part3.mp3\n",
      "Created segment 4 for .\\mp3_(2).mp3: .\\mp3_(2)_segments\\mp3_(2)_part4.mp3\n",
      "Created segment 5 for .\\mp3_(2).mp3: .\\mp3_(2)_segments\\mp3_(2)_part5.mp3\n",
      "Created segment 6 for .\\mp3_(2).mp3: .\\mp3_(2)_segments\\mp3_(2)_part6.mp3\n",
      "Created segment 7 for .\\mp3_(2).mp3: .\\mp3_(2)_segments\\mp3_(2)_part7.mp3\n",
      "Created segment 8 for .\\mp3_(2).mp3: .\\mp3_(2)_segments\\mp3_(2)_part8.mp3\n"
     ]
    }
   ],
   "source": [
    "import os\n",
    "import subprocess\n",
    "\n",
    "def split_mp3_with_ffmpeg(file_path, output_dir, segments):\n",
    "    try:\n",
    "        # Get the duration of the audio file\n",
    "        command = [\n",
    "            'ffprobe', '-v', 'error', '-show_entries', 'format=duration',\n",
    "            '-of', 'default=noprint_wrappers=1:nokey=1', file_path\n",
    "        ]\n",
    "        result = subprocess.run(command, capture_output=True, text=True, check=True)\n",
    "        duration = float(result.stdout.strip())\n",
    "\n",
    "        # Calculate the duration of each segment\n",
    "        segment_duration = duration / segments\n",
    "\n",
    "        # Create the output directory if it does not exist\n",
    "        if not os.path.exists(output_dir):\n",
    "            os.makedirs(output_dir)\n",
    "\n",
    "        # Split the file into segments\n",
    "        for i in range(segments):\n",
    "            start_time = i * segment_duration\n",
    "            output_path = os.path.join(output_dir, f\"{os.path.splitext(os.path.basename(file_path))[0]}_part{i+1}.mp3\")\n",
    "            command = [\n",
    "                'ffmpeg', '-i', file_path, '-ss', str(start_time), '-t', str(segment_duration),\n",
    "                '-c', 'copy', output_path\n",
    "            ]\n",
    "            subprocess.run(command, check=True)\n",
    "            print(f\"Created segment {i+1} for {file_path}: {output_path}\")\n",
    "\n",
    "    except Exception as e:\n",
    "        print(f\"Error splitting {file_path} with ffmpeg: {str(e)}\")\n",
    "\n",
    "def scan_and_split(directory, segments):\n",
    "    supported_extensions = ['.mp3']\n",
    "    for filename in os.listdir(directory):\n",
    "        if any(filename.endswith(ext) for ext in supported_extensions):\n",
    "            file_path = os.path.join(directory, filename)\n",
    "            output_dir = os.path.join(directory, os.path.splitext(filename)[0] + '_segments')\n",
    "            print(f\"Splitting {file_path} into {segments} segments.\")\n",
    "            split_mp3_with_ffmpeg(file_path, output_dir, segments)\n",
    "\n",
    "if __name__ == \"__main__\":\n",
    "    directory = '.'  # Specify the directory to scan\n",
    "    segments = 8  # Specify the number of segments\n",
    "    scan_and_split(directory, segments)\n"
   ]
  }
 ],
 "metadata": {
  "kernelspec": {
   "display_name": "Pytorch",
   "language": "python",
   "name": "python3"
  },
  "language_info": {
   "codemirror_mode": {
    "name": "ipython",
    "version": 3
   },
   "file_extension": ".py",
   "mimetype": "text/x-python",
   "name": "python",
   "nbconvert_exporter": "python",
   "pygments_lexer": "ipython3",
   "version": "3.11.8"
  }
 },
 "nbformat": 4,
 "nbformat_minor": 2
}
