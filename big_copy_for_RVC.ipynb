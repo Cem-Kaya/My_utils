{
 "cells": [
  {
   "cell_type": "code",
   "execution_count": 1,
   "metadata": {},
   "outputs": [
    {
     "name": "stdout",
     "output_type": "stream",
     "text": [
      "Files have been successfully combined and renamed.\n"
     ]
    }
   ],
   "source": [
    "import os\n",
    "import shutil\n",
    "\n",
    "# Define source directories and target directories\n",
    "src_dirs = [\n",
    "    '0_0_gt_wavs', '0_1_16k_wavs', '1_0_gt_wavs', '1_1_16k_wavs',\n",
    "    '2_0_gt_wavs', '2_1_16k_wavs', '3_0_gt_wavs', '3_1_16k_wavs',\n",
    "    '4_0_gt_wavs', '4_1_16k_wavs'\n",
    "]\n",
    "target_dirs = {\n",
    "    'gt': 'new_0_gt_wavs',\n",
    "    '16k': 'new_1_16k_wavs'\n",
    "}\n",
    "\n",
    "# Create target directories if they don't exist\n",
    "for target in target_dirs.values():\n",
    "    if not os.path.exists(target):\n",
    "        os.makedirs(target)\n",
    "\n",
    "# Function to process files and copy to target directories\n",
    "def process_files(src_dirs, target_dirs):\n",
    "    prefix_counter = {\n",
    "        'gt': 0,\n",
    "        '16k': 0\n",
    "    }\n",
    "\n",
    "    for src in src_dirs:\n",
    "        src_type = 'gt' if 'gt_wavs' in src else '16k'\n",
    "        target_dir = target_dirs[src_type]\n",
    "        \n",
    "        prefix_map = {}\n",
    "        files_by_prefix = {}\n",
    "\n",
    "        # Group files by their original prefix\n",
    "        for root, _, files in os.walk(src):\n",
    "            for file in sorted(files):\n",
    "                if file.endswith('.wav'):\n",
    "                    original_prefix = int(file.split('_')[0])\n",
    "                    if original_prefix not in files_by_prefix:\n",
    "                        files_by_prefix[original_prefix] = []\n",
    "                    files_by_prefix[original_prefix].append(file)\n",
    "        \n",
    "        # Copy files and rename them based on the new prefix scheme\n",
    "        for original_prefix in sorted(files_by_prefix.keys()):\n",
    "            new_prefix = prefix_counter[src_type]\n",
    "            for file in files_by_prefix[original_prefix]:\n",
    "                new_file_name = f\"{new_prefix}_{file.split('_')[1]}\"\n",
    "                shutil.copy2(os.path.join(root, file), os.path.join(target_dir, new_file_name))\n",
    "            prefix_counter[src_type] += 1\n",
    "\n",
    "# Process the files\n",
    "process_files(src_dirs, target_dirs)\n",
    "\n",
    "print(\"Files have been successfully combined and renamed.\")\n"
   ]
  }
 ],
 "metadata": {
  "kernelspec": {
   "display_name": "Pytorch",
   "language": "python",
   "name": "python3"
  },
  "language_info": {
   "codemirror_mode": {
    "name": "ipython",
    "version": 3
   },
   "file_extension": ".py",
   "mimetype": "text/x-python",
   "name": "python",
   "nbconvert_exporter": "python",
   "pygments_lexer": "ipython3",
   "version": "3.11.8"
  }
 },
 "nbformat": 4,
 "nbformat_minor": 2
}
