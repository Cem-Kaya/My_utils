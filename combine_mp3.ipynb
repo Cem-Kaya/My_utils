{
 "cells": [
  {
   "cell_type": "code",
   "execution_count": 2,
   "metadata": {},
   "outputs": [
    {
     "name": "stdout",
     "output_type": "stream",
     "text": [
      "Number of files: 82\n",
      "Files: ['SPEAKER_00.mp3', 'SPEAKER_01_Were_getting_cancelled_____ft__TipsOut___KH0Luq_nL7o__output.mp3', 'SPEAKER_01_words357.mp3', 'SPEAKER_02.2.mp3', 'SPEAKER_02.mp3', 'SPEAKER_025555.mp3', 'SPEAKER_02_words3222.mp3', 'SPEAKER_02_words999 (1).mp3', 'SPEAKER_02_words999 (2).mp3', 'SPEAKER_03_WE_STARTED_A_PODCAST___JxpszfaNzuw__output.mp3', 'SPEAKER_03_Weve_Waited_our_Entire_Lives_for_This__DO8JxNZOQQ4__output.mp3', 'SPEAKER_03_Why_We_Havent_Been_Posting__5IRS7b7odp0__output.mp3', 'SPEAKER_03_____.mp3', 'SPEAKER_03_words1254114.mp3', 'SPEAKER_03_words321500.mp3', 'SPEAKER_03_words3333.mp3', 'SPEAKER_03_words3333333.mp3', 'SPEAKER_03_words33354.mp3', 'SPEAKER_03_words333542.mp3', 'SPEAKER_03_words333633.mp3', 'SPEAKER_03_words3522.mp3', 'SPEAKER_03_words3a5s4.mp3', 'SPEAKER_03_words7777.mp3', 'SPEAKER_04. (1).mp3', 'SPEAKER_04. (2).mp3', 'SPEAKER_04.mp3', 'SPEAKER_04_Were_Making_a_Big_Change__ft__Mizkif___ayJwcoR1Zhs__output.mp3', 'SPEAKER_04_Weve_Waited_our_Entire_Lives_for_This__DO8JxNZOQQ4__output.mp3', 'SPEAKER_04_Why_We_Havent_Been_Posting__5IRS7b7odp0__output.mp3', 'SPEAKER_04_Will_Neff_Joins_OTK__ft__Hasan___PHGHHkhILmM__output.mp3', 'SPEAKER_04_words111.mp3', 'SPEAKER_04_words15.mp3', 'SPEAKER_04_words153.mp3', 'SPEAKER_04_words303.mp3', 'SPEAKER_04_words354.mp3', 'SPEAKER_04_words44444.mp3', 'SPEAKER_04_words444444.mp3', 'SPEAKER_04_words55555.mp3', 'SPEAKER_04_words557.mp3', 'SPEAKER_04_words57786.mp3', 'SPEAKER_04_words98888.mp3', 'SPEAKER_04_wordsqqqq.mp3', 'SPEAKER_05.mp3', 'SPEAKER_05357.mp3', 'SPEAKER_05_Weve_finally_gone_insane_____BGq1_P0Fy0c__output.mp3', 'SPEAKER_05_What_Our_Parents_Really_Think_about_Our_Podcast__1Xxn33qmlS8__output.mp3', 'SPEAKER_05_Why_We_Havent_Been_Posting__5IRS7b7odp0__output.mp3', 'SPEAKER_05__ (1).mp3', 'SPEAKER_05__ (2).mp3', 'SPEAKER_05_words11.mp3', 'SPEAKER_05_words1919.mp3', 'SPEAKER_05_words253.mp3', 'SPEAKER_05_words33452.mp3', 'SPEAKER_05_words3495.mp3', 'SPEAKER_05_wordsbbb.mp3', 'SPEAKER_05_wordsbeef.mp3', 'SPEAKER_05aaa.mp3', 'SPEAKER_06.mp3', 'SPEAKER_066767.mp3', 'SPEAKER_06_22.mp3', 'SPEAKER_06_Were_Going_On_Strike__ALgKaHhEUBE__output.mp3', 'SPEAKER_06_Weve_finally_gone_insane_____BGq1_P0Fy0c__output.mp3', 'SPEAKER_06_words000.mp3', 'SPEAKER_06_words22222 (1).mp3', 'SPEAKER_06_words22222 (2).mp3', 'SPEAKER_06_words333.mp3', 'SPEAKER_06_words33335111.mp3', 'SPEAKER_06_words66666.mp3', 'SPEAKER_06_words8543.mp3', 'SPEAKER_07_Were_Going_On_Strike__ALgKaHhEUBE__output.mp3', 'SPEAKER_07__ (1).mp3', 'SPEAKER_07__ (2).mp3', 'SPEAKER_07_words3571.mp3', 'SPEAKER_07_words543.mp3', 'SPEAKER_07_words7777.mp3', 'SPEAKER_08_words8531.mp3', 'SPEAKER_08_words85334.mp3', 'SPEAKER_08_words888.mp3', 'SPEAKER_09.mp3', 'SPEAKER_09_words368.mp3', 'SPEAKER_10.mp3', 'combined2.mp3']\n",
      "Combined MP3 saved as combined.mp3\n"
     ]
    }
   ],
   "source": [
    "import os\n",
    "import subprocess\n",
    "\n",
    "def join_mp3_files_ffmpeg(output_filename):\n",
    "    # Get the current directory\n",
    "    directory = os.getcwd()\n",
    "    \n",
    "    # Get a list of all mp3 files in the directory, excluding the output file if it exists\n",
    "    mp3_files = [f for f in os.listdir(directory) if f.endswith('.mp3') and f != output_filename]\n",
    "    \n",
    "    # Sort the files to maintain a consistent order\n",
    "    mp3_files.sort()\n",
    "    print(\"Number of files:\", len(mp3_files))\n",
    "    print(\"Files:\", mp3_files)\n",
    "    \n",
    "    # Create a temporary text file listing all MP3 files\n",
    "    with open(\"mp3_list.txt\", \"w\") as f:\n",
    "        for mp3_file in mp3_files:\n",
    "            f.write(f\"file '{os.path.join(directory, mp3_file)}'\\n\")\n",
    "    \n",
    "    # Use ffmpeg to concatenate the files\n",
    "    try:\n",
    "        subprocess.run([\"ffmpeg\", \"-f\", \"concat\", \"-safe\", \"0\", \"-i\", \"mp3_list.txt\", \"-c\", \"copy\", output_filename], check=True)\n",
    "        print(f\"Combined MP3 saved as {output_filename}\")\n",
    "    except subprocess.CalledProcessError as e:\n",
    "        print(f\"Error combining MP3 files: {e}\")\n",
    "    finally:\n",
    "        os.remove(\"mp3_list.txt\")\n",
    "\n",
    "# Example usage\n",
    "output_filename = 'combined.mp3'  # Replace with your desired output filename\n",
    "join_mp3_files_ffmpeg(output_filename)"
   ]
  }
 ],
 "metadata": {
  "kernelspec": {
   "display_name": "Pytorch",
   "language": "python",
   "name": "python3"
  },
  "language_info": {
   "codemirror_mode": {
    "name": "ipython",
    "version": 3
   },
   "file_extension": ".py",
   "mimetype": "text/x-python",
   "name": "python",
   "nbconvert_exporter": "python",
   "pygments_lexer": "ipython3",
   "version": "3.11.8"
  }
 },
 "nbformat": 4,
 "nbformat_minor": 2
}
