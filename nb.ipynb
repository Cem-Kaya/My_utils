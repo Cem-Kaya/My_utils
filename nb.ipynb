{
 "cells": [
  {
   "cell_type": "code",
   "execution_count": 1,
   "metadata": {},
   "outputs": [
    {
     "name": "stdout",
     "output_type": "stream",
     "text": [
      "True\n"
     ]
    }
   ],
   "source": [
    "import  torch\n",
    "print(torch.cuda.is_available())\n",
    "#import whisper # From open ai\n",
    "from faster_whisper import WhisperModel # from github SYSTRAN/faster-whisper\n",
    "import os\n",
    "# CONF\n",
    "file_type = \"m4a\"\n",
    "model_size = \"large-v3\" # \"medium\""
   ]
  },
  {
   "cell_type": "code",
   "execution_count": 2,
   "metadata": {},
   "outputs": [
    {
     "name": "stdout",
     "output_type": "stream",
     "text": [
      "['Hipnotik dil eğitimi 5 (3) (gönderilemedi).m4a']\n"
     ]
    }
   ],
   "source": [
    "#model = whisper.load_model(model_size,  device=\"cuda\")\n",
    "model = WhisperModel(model_size, device=\"cuda\", compute_type=\"float16\")\n",
    "# or run on GPU with INT8\n",
    "#model = WhisperModel(model_size, device=\"cuda\", compute_type=\"int8_float16\")\n",
    "# or run on CPU with INT8\n",
    "# model = WhisperModel(model_size, device=\"cpu\", compute_type=\"int8\")\n",
    "\n",
    "\n",
    "#get the names of allt he files in the directory\n",
    "files = os.listdir('.') \n",
    "#get the files that end with .mp4\n",
    "files = [f for f in files if f.endswith('.' +file_type)]\n",
    "print(files)"
   ]
  },
  {
   "cell_type": "code",
   "execution_count": 3,
   "metadata": {},
   "outputs": [
    {
     "name": "stdout",
     "output_type": "stream",
     "text": [
      "Hipnotik dil eğitimi 5 (3) (gönderilemedi).m4a\n",
      "Detected language 'tr' with probability 1.000000\n"
     ]
    }
   ],
   "source": [
    "#loop through the files\n",
    "for f in files:\n",
    "    print(f)\n",
    "    segments, info = model.transcribe(f, beam_size=5, language=\"tr\"   ) # , language=\"tr\" )\n",
    "    print(\"Detected language '%s' with probability %f\" % (info.language, info.language_probability))\n",
    "    result = ' '.join(i[4] for i in segments)\n",
    "\n",
    "    #put the results in a text file\n",
    "    with open(f+\".txt\", \"w\") as f:\n",
    "        f.write( str(result)) \n"
   ]
  },
  {
   "cell_type": "code",
   "execution_count": null,
   "metadata": {},
   "outputs": [],
   "source": []
  },
  {
   "cell_type": "code",
   "execution_count": null,
   "metadata": {},
   "outputs": [],
   "source": []
  },
  {
   "cell_type": "code",
   "execution_count": null,
   "metadata": {},
   "outputs": [],
   "source": []
  }
 ],
 "metadata": {
  "kernelspec": {
   "display_name": "PyTorch",
   "language": "python",
   "name": "python3"
  },
  "language_info": {
   "codemirror_mode": {
    "name": "ipython",
    "version": 3
   },
   "file_extension": ".py",
   "mimetype": "text/x-python",
   "name": "python",
   "nbconvert_exporter": "python",
   "pygments_lexer": "ipython3",
   "version": "3.11.8"
  },
  "orig_nbformat": 4
 },
 "nbformat": 4,
 "nbformat_minor": 2
}
